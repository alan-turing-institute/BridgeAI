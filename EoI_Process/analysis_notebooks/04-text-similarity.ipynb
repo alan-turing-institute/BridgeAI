{
 "cells": [
  {
   "cell_type": "markdown",
   "metadata": {},
   "source": [
    "# Textual Similarity"
   ]
  },
  {
   "cell_type": "code",
   "execution_count": null,
   "metadata": {},
   "outputs": [],
   "source": [
    "from angle_emb import AnglE, Prompts\n",
    "from angle_emb.utils import cosine_similarity"
   ]
  },
  {
   "cell_type": "code",
   "execution_count": null,
   "metadata": {},
   "outputs": [],
   "source": [
    "# other possible models:\n",
    "# sentence-transformers/all-MiniLM-L6-v2\n",
    "# WhereIsAI/UAE-Large-V1\n",
    "\n",
    "angle = AnglE.from_pretrained('sentence-transformers/all-MiniLM-L6-v2', pooling_strategy='cls').to(\"mps\")\n",
    "# For retrieval tasks, we use `Prompts.C` as the prompt for the query when using UAE-Large-V1 (no need to specify prompt for documents).\n",
    "# When specify prompt, the inputs should be a list of dict with key 'text'"
   ]
  },
  {
   "cell_type": "code",
   "execution_count": null,
   "metadata": {},
   "outputs": [],
   "source": [
    "sme_challenges = [\n",
    "    \"GreenHarvest Agriculture: Our farm produces large amounts of crop data, but we struggle to analyze weather patterns and optimize irrigation schedules. We need AI to predict yield and reduce water waste. AI Needs: Time-series forecasting, Predictive analytics for crop yield, Optimization of irrigation schedules. Current AI Use: None, looking for first-time adoption.\",\n",
    "    \n",
    "    \"BuildSmart Constructions: We need to improve project cost estimation and reduce delays. Our current approach relies on past data, but it lacks predictive power. AI could help us forecast risks and optimize resource allocation. AI Needs: Machine learning for project cost estimation, Risk prediction models, Resource optimization algorithms. Current AI Use: Some exposure to AI tools but no in-house expertise.\",\n",
    "    \n",
    "    \"TrendyRetail E-commerce: We want to personalize product recommendations based on user behavior. Our current system uses simple rule-based filters, but AI could improve conversions by offering dynamic, personalized suggestions. AI Needs: AI-powered recommendation systems, Customer behavior analysis, NLP for product descriptions and customer reviews. Current AI Use: Basic data analytics, but no advanced AI.\"\n",
    "]\n",
    "\n",
    "ai_experts = [\n",
    "    \"Dr. Emma Carter – AI for Agriculture: Dr. Carter specializes in AI-driven agricultural analytics. She has developed machine learning models for crop yield forecasting and climate impact prediction. Her expertise includes optimizing irrigation systems using AI. Expertise: Predictive analytics, Time-series forecasting, AI for climate and agriculture.\",\n",
    "    \n",
    "    \"Dr. Mark Reynolds – AI for Construction & Risk Analysis: Dr. Reynolds has worked on AI-powered project management tools that help construction firms predict cost overruns and delays. He specializes in data-driven decision-making for large-scale infrastructure projects. Expertise: AI for cost estimation, Risk modeling, Resource optimization.\",\n",
    "    \n",
    "    \"Dr. Sophia Lee – AI for Retail & Personalization: Dr. Lee is an expert in AI-powered recommendation engines. She has developed machine learning models that analyze customer behavior to provide personalized product suggestions and improve conversion rates. Expertise: Recommender systems, Customer behavior analysis, NLP for e-commerce.\"\n",
    "]\n"
   ]
  },
  {
   "cell_type": "code",
   "execution_count": null,
   "metadata": {},
   "outputs": [],
   "source": [
    "qv = angle.encode({'text': sme_challenges[0]}, to_numpy=True, prompt=Prompts.C)\n",
    "ai_experts_vecs = angle.encode(ai_experts, to_numpy=True)\n",
    "\n",
    "for v in ai_experts_vecs:\n",
    "    print(cosine_similarity(qv[0], v))"
   ]
  },
  {
   "cell_type": "markdown",
   "metadata": {},
   "source": [
    "**ISA Skill Map**\n",
    "\n",
    "Requirement planning:\n",
    "- Market analysis\n",
    "- Business goal alignment\n",
    "- Product requirements planning\n",
    "- Company level skills analysis\n",
    "\n",
    "Data Ops:\n",
    "- Data collection/procurement practices\n",
    "- Synthetic data generation\n",
    "- Exploratory analysis\n",
    "- Data transformation and feature engineering practices\n",
    "- Data storage and data operations\n",
    "- Data management and regulatory compliance\n",
    "\n",
    "ML Ops:\n",
    "- Algorithm/model selection\n",
    "- System evaluation (robustness and safety characteristics)\n",
    "- System evaluation (stress testing and real-word deployment)\n",
    "\n",
    "Dev Ops:\n",
    "- Dev Ops/full stack development\n",
    "- Model deployment solutions\n",
    "- Open-source practices\n",
    "- Infrastructure cost analysis and reduction\n",
    "\n",
    "Regulatory/Compliance/Ethics:\n",
    "- Risk Management practices\n",
    "- Human-centred practices\n",
    "- Responsible AI practices and ethics\n",
    "- Standards and regulatory compliance"
   ]
  },
  {
   "cell_type": "markdown",
   "metadata": {},
   "source": []
  }
 ],
 "metadata": {
  "kernelspec": {
   "display_name": ".venv",
   "language": "python",
   "name": "python3"
  },
  "language_info": {
   "codemirror_mode": {
    "name": "ipython",
    "version": 3
   },
   "file_extension": ".py",
   "mimetype": "text/x-python",
   "name": "python",
   "nbconvert_exporter": "python",
   "pygments_lexer": "ipython3",
   "version": "3.12.7"
  }
 },
 "nbformat": 4,
 "nbformat_minor": 2
}
