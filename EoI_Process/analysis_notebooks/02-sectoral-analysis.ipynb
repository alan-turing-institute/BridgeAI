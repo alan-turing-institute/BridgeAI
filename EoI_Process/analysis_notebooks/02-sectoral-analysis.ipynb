{
 "cells": [
  {
   "cell_type": "code",
   "execution_count": null,
   "metadata": {},
   "outputs": [],
   "source": [
    "import pandas as pd"
   ]
  },
  {
   "cell_type": "code",
   "execution_count": null,
   "metadata": {},
   "outputs": [],
   "source": [
    "data = pd.read_csv(\"../EoIs/Outputs/Combined/Inputs/unique_merged_data.csv\")"
   ]
  },
  {
   "cell_type": "code",
   "execution_count": null,
   "metadata": {},
   "outputs": [],
   "source": [
    "# Count the \"Yes\" and \"No\" of Data scientists, Machine learning experts, Software engineers, Data analysts, Statisticians columns\n",
    "data_scientists = data[\"Data scientists\"].value_counts()\n",
    "print(data_scientists)\n",
    "machine_learning_experts = data[\"Machine learning experts\"].value_counts()\n",
    "print(machine_learning_experts)\n",
    "software_engineers = data[\"Software engineers\"].value_counts()\n",
    "print(software_engineers)\n",
    "data_analysts = data[\"Data analysts\"].value_counts()\n",
    "print(data_analysts)\n",
    "statisticians = data[\"Statisticians\"].value_counts()\n",
    "print(statisticians)"
   ]
  },
  {
   "cell_type": "code",
   "execution_count": null,
   "metadata": {},
   "outputs": [],
   "source": [
    "print(\"Count of all businesses that have all 5 roles: \",\n",
    "    data[(data[\"Data scientists\"] == \"Yes\") & \n",
    "        (data[\"Machine learning experts\"] == \"Yes\") & \n",
    "        (data[\"Software engineers\"] == \"Yes\") & \n",
    "        (data[\"Data analysts\"] == \"Yes\") & \n",
    "        (data[\"Statisticians\"] == \"Yes\")].shape[0])"
   ]
  },
  {
   "cell_type": "code",
   "execution_count": null,
   "metadata": {},
   "outputs": [],
   "source": [
    "# Now analyse these numbers for Agriculture and food processing, Construction, Creative Industries, and Transportation, including logistics and warehousing sectors, and Other. Each sector is represented as a column in the data frame. These columns contain values of \"Yes\" and \"No\" for each profession. Analyse the count of professionals in each sector.\n",
    "\n",
    "# get the rows where the sector is Agriculture and food processing\n",
    "agriculture = data[data[\"Agriculture and food processing\"] == \"Yes\"]\n",
    "# get the count of each profession in the agriculture sector\n",
    "agriculture_data_scientists = agriculture[\"Data scientists\"].value_counts()\n",
    "print(agriculture_data_scientists)\n",
    "agriculture_machine_learning_experts = agriculture[\"Machine learning experts\"].value_counts()\n",
    "print(agriculture_machine_learning_experts)\n",
    "agriculture_software_engineers = agriculture[\"Software engineers\"].value_counts()\n",
    "print(agriculture_software_engineers)\n",
    "agriculture_data_analysts = agriculture[\"Data analysts\"].value_counts()\n",
    "print(agriculture_data_analysts)\n",
    "agriculture_statisticians = agriculture[\"Statisticians\"].value_counts()\n",
    "print(agriculture_statisticians)"
   ]
  },
  {
   "cell_type": "code",
   "execution_count": null,
   "metadata": {},
   "outputs": [],
   "source": [
    "# get the rows where the sector is Construction\n",
    "construction = data[data[\"Construction\"] == \"Yes\"]\n",
    "# get the count of each profession in the construction sector\n",
    "construction_data_scientists = construction[\"Data scientists\"].value_counts()\n",
    "print(construction_data_scientists)\n",
    "construction_machine_learning_experts = construction[\"Machine learning experts\"].value_counts()\n",
    "print(construction_machine_learning_experts)\n",
    "construction_software_engineers = construction[\"Software engineers\"].value_counts()\n",
    "print(construction_software_engineers)\n",
    "construction_data_analysts = construction[\"Data analysts\"].value_counts()\n",
    "print(construction_data_analysts)\n",
    "construction_statisticians = construction[\"Statisticians\"].value_counts()\n",
    "print(construction_statisticians) "
   ]
  },
  {
   "cell_type": "code",
   "execution_count": null,
   "metadata": {},
   "outputs": [],
   "source": [
    "# get the rows where the sector is Creative Industries\n",
    "creative = data[data[\"Creative Industries\"] == \"Yes\"]\n",
    "# get the count of each profession in the creative industries sector\n",
    "creative_data_scientists = creative[\"Data scientists\"].value_counts()\n",
    "print(creative_data_scientists)\n",
    "creative_machine_learning_experts = creative[\"Machine learning experts\"].value_counts()\n",
    "print(creative_machine_learning_experts)\n",
    "creative_software_engineers = creative[\"Software engineers\"].value_counts()\n",
    "print(creative_software_engineers)\n",
    "creative_data_analysts = creative[\"Data analysts\"].value_counts()\n",
    "print(creative_data_analysts)\n",
    "creative_statisticians = creative[\"Statisticians\"].value_counts()\n",
    "print(creative_statisticians)"
   ]
  },
  {
   "cell_type": "code",
   "execution_count": null,
   "metadata": {},
   "outputs": [],
   "source": [
    "# get the rows where the sector is Transportation including logistics and warehousing\n",
    "transportation = data[data[\"Transportation, including logistics and warehousing\"] == \"Yes\"]\n",
    "# get the count of each profession in the transportation sector\n",
    "transportation_data_scientists = transportation[\"Data scientists\"].value_counts()\n",
    "print(transportation_data_scientists)\n",
    "transportation_machine_learning_experts = transportation[\"Machine learning experts\"].value_counts()\n",
    "print(transportation_machine_learning_experts)\n",
    "transportation_software_engineers = transportation[\"Software engineers\"].value_counts()\n",
    "print(transportation_software_engineers)\n",
    "transportation_data_analysts = transportation[\"Data analysts\"].value_counts()\n",
    "print(transportation_data_analysts)\n",
    "transportation_statisticians = transportation[\"Statisticians\"].value_counts()\n",
    "print(transportation_statisticians)"
   ]
  },
  {
   "cell_type": "code",
   "execution_count": null,
   "metadata": {},
   "outputs": [],
   "source": [
    "# get the rows where the sector is Other\n",
    "other = data[data[\"Other (1)\"] != \"No\"]\n",
    "# get the count of each profession in the other sector\n",
    "other_data_scientists = other[\"Data scientists\"].value_counts()\n",
    "print(other_data_scientists)\n",
    "other_machine_learning_experts = other[\"Machine learning experts\"].value_counts()\n",
    "print(other_machine_learning_experts)\n",
    "other_software_engineers = other[\"Software engineers\"].value_counts()\n",
    "print(other_software_engineers)\n",
    "other_data_analysts = other[\"Data analysts\"].value_counts()\n",
    "print(other_data_analysts)\n",
    "other_statisticians = other[\"Statisticians\"].value_counts()\n",
    "print(other_statisticians)"
   ]
  },
  {
   "cell_type": "code",
   "execution_count": null,
   "metadata": {},
   "outputs": [],
   "source": [
    "# For the column \"Briefly outline what engagement you have had with data science and AI solutions in the past (for example, advice, training, specialised staff)\", check the number of professionals for the given answer \"Own data science and/or AI team internally\"\n",
    "own_data_science_team = data[data[\"Briefly outline what engagement you have had with data science and AI solutions in the past (for example, advice, training, specialised staff)\"] == \"Own data science and/or AI team internally\"]\n",
    "\n",
    "own_team_data_scientists = own_data_science_team[\"Data scientists\"].value_counts()\n",
    "print(own_team_data_scientists)\n",
    "own_team_machine_learning_experts = own_data_science_team[\"Machine learning experts\"].value_counts()\n",
    "print(own_team_machine_learning_experts)\n",
    "own_team_software_engineers = own_data_science_team[\"Software engineers\"].value_counts()\n",
    "print(own_team_software_engineers)\n",
    "own_team_data_analysts = own_data_science_team[\"Data analysts\"].value_counts()\n",
    "print(own_team_data_analysts)\n",
    "own_team_statisticians = own_data_science_team[\"Statisticians\"].value_counts()\n",
    "print(own_team_statisticians)"
   ]
  },
  {
   "cell_type": "code",
   "execution_count": null,
   "metadata": {},
   "outputs": [],
   "source": [
    "# Check all data if all professions are \"Yes\"\n",
    "all_yes = data[(data[\"Data scientists\"] == \"Yes\") & (data[\"Machine learning experts\"] == \"Yes\") & (data[\"Software engineers\"] == \"Yes\") & (data[\"Data analysts\"] == \"Yes\") & (data[\"Statisticians\"] == \"Yes\")]\n",
    "print(\"Count of companies that have all professions:\", all_yes.shape[0])\n",
    "print(all_yes.to_string(index=False, header=False))\n"
   ]
  },
  {
   "cell_type": "code",
   "execution_count": null,
   "metadata": {},
   "outputs": [],
   "source": [
    "# What are the primary barriers that your company faces with regards to the adoption of AI? (choose up to 3)\n",
    "# Categories: \n",
    "# - Company culture, approach to innovation\n",
    "# - Data quality, data sharing and/or data management issues\n",
    "# - Costs and complexity\n",
    "# - Lack of strategy and clear objectives\n",
    "# - Ethical, regulatory and compliance\n",
    "# - Process deficiencies and storage\n",
    "# - Other\n",
    "\n",
    "# get the rows where the barrier is Company culture, approach to innovation\n",
    "company_culture = data[data[\"Company culture, approach to innovation\"] == \"Yes\"].shape[0]\n",
    "data_quality = data[data[\"Data quality, data sharing and/or data management issues\"] == \"Yes\"].shape[0]\n",
    "costs = data[data[\"Costs and complexity\"] == \"Yes\"].shape[0]\n",
    "strategy = data[data[\"Lack of strategy and clear objectives\"] == \"Yes\"].shape[0]\n",
    "ethical = data[data[\"Ethical, regulatory and compliance\"] == \"Yes\"].shape[0]\n",
    "process = data[data[\"Process deficiencies and storage\"] == \"Yes\"].shape[0]\n",
    "other = data[data[\"Other (2)\"] == \"Yes\"].shape[0]\n",
    "\n",
    "# print all the counts in one line\n",
    "print(\"Company culture:\", company_culture, \"Data quality:\", data_quality, \"Costs:\", costs, \"Strategy:\", strategy, \"Ethical:\", ethical, \"Process:\", process, \"Other:\", other)\n",
    "\n"
   ]
  },
  {
   "cell_type": "code",
   "execution_count": null,
   "metadata": {},
   "outputs": [],
   "source": [
    "# Now conduct a secoral analysis of the barriers. For each sector, calculate the number of companies that face each barrier.\n",
    "# get the rows where the sector is Agriculture and food processing\n",
    "agriculture_company_culture = agriculture[\"Company culture, approach to innovation\"].value_counts()\n",
    "agriculture_data_quality = agriculture[\"Data quality, data sharing and/or data management issues\"].value_counts()\n",
    "agriculture_costs = agriculture[\"Costs and complexity\"].value_counts()\n",
    "agriculture_strategy = agriculture[\"Lack of strategy and clear objectives\"].value_counts()\n",
    "agriculture_ethical = agriculture[\"Ethical, regulatory and compliance\"].value_counts()\n",
    "agriculture_process = agriculture[\"Process deficiencies and storage\"].value_counts()\n",
    "agriculture_other = agriculture[\"Other (2)\"].value_counts()\n",
    "\n",
    "print(\"Company culture:\", agriculture_company_culture)\n",
    "print(\"Data quality:\", agriculture_data_quality)\n",
    "print(\"Costs:\", agriculture_costs)\n",
    "print(\"Strategy:\", agriculture_strategy)\n",
    "print(\"Ethical:\", agriculture_ethical)\n",
    "print(\"Process:\", agriculture_process)\n",
    "print(\"Other:\", agriculture_other)"
   ]
  },
  {
   "cell_type": "code",
   "execution_count": null,
   "metadata": {},
   "outputs": [],
   "source": [
    "construction_company_culture = construction[\"Company culture, approach to innovation\"].value_counts()\n",
    "construction_data_quality = construction[\"Data quality, data sharing and/or data management issues\"].value_counts()\n",
    "construction_costs = construction[\"Costs and complexity\"].value_counts()\n",
    "construction_strategy = construction[\"Lack of strategy and clear objectives\"].value_counts()\n",
    "construction_ethical = construction[\"Ethical, regulatory and compliance\"].value_counts()\n",
    "construction_process = construction[\"Process deficiencies and storage\"].value_counts()\n",
    "construction_other = construction[\"Other (2)\"].value_counts()\n",
    "\n",
    "print(\"Company culture:\", construction_company_culture)\n",
    "print(\"Data quality:\", construction_data_quality)\n",
    "print(\"Costs:\", construction_costs)\n",
    "print(\"Strategy:\", construction_strategy)\n",
    "print(\"Ethical:\", construction_ethical)\n",
    "print(\"Process:\", construction_process)\n",
    "print(\"Other:\", construction_other)"
   ]
  },
  {
   "cell_type": "code",
   "execution_count": null,
   "metadata": {},
   "outputs": [],
   "source": [
    "creative_company_culture = creative[\"Company culture, approach to innovation\"].value_counts()\n",
    "creative_data_quality = creative[\"Data quality, data sharing and/or data management issues\"].value_counts()\n",
    "creative_costs = creative[\"Costs and complexity\"].value_counts()\n",
    "creative_strategy = creative[\"Lack of strategy and clear objectives\"].value_counts()\n",
    "creative_ethical = creative[\"Ethical, regulatory and compliance\"].value_counts()\n",
    "creative_process = creative[\"Process deficiencies and storage\"].value_counts()\n",
    "creative_other = creative[\"Other (2)\"].value_counts()\n",
    "\n",
    "print(\"Company culture:\", creative_company_culture)\n",
    "print(\"Data quality:\", creative_data_quality)\n",
    "print(\"Costs:\", creative_costs)\n",
    "print(\"Strategy:\", creative_strategy)\n",
    "print(\"Ethical:\", creative_ethical)\n",
    "print(\"Process:\", creative_process)\n",
    "print(\"Other:\", creative_other)"
   ]
  },
  {
   "cell_type": "code",
   "execution_count": null,
   "metadata": {},
   "outputs": [],
   "source": [
    "transportation_company_culture = transportation[\"Company culture, approach to innovation\"].value_counts()\n",
    "transportation_data_quality = transportation[\"Data quality, data sharing and/or data management issues\"].value_counts()\n",
    "transportation_costs = transportation[\"Costs and complexity\"].value_counts()\n",
    "transportation_strategy = transportation[\"Lack of strategy and clear objectives\"].value_counts()\n",
    "transportation_ethical = transportation[\"Ethical, regulatory and compliance\"].value_counts()\n",
    "transportation_process = transportation[\"Process deficiencies and storage\"].value_counts()\n",
    "transportation_other = transportation[\"Other (2)\"].value_counts()\n",
    "\n",
    "print(\"Company culture:\", transportation_company_culture)\n",
    "print(\"Data quality:\", transportation_data_quality)\n",
    "print(\"Costs:\", transportation_costs)\n",
    "print(\"Strategy:\", transportation_strategy)\n",
    "print(\"Ethical:\", transportation_ethical)\n",
    "print(\"Process:\", transportation_process)\n",
    "print(\"Other:\", transportation_other)"
   ]
  },
  {
   "cell_type": "code",
   "execution_count": null,
   "metadata": {},
   "outputs": [],
   "source": []
  }
 ],
 "metadata": {
  "kernelspec": {
   "display_name": ".venv",
   "language": "python",
   "name": "python3"
  },
  "language_info": {
   "codemirror_mode": {
    "name": "ipython",
    "version": 3
   },
   "file_extension": ".py",
   "mimetype": "text/x-python",
   "name": "python",
   "nbconvert_exporter": "python",
   "pygments_lexer": "ipython3",
   "version": "3.12.7"
  }
 },
 "nbformat": 4,
 "nbformat_minor": 2
}
