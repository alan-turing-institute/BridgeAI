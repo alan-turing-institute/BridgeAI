{
 "cells": [
  {
   "cell_type": "code",
   "execution_count": null,
   "metadata": {},
   "outputs": [],
   "source": [
    "import os\n",
    "import pandas as pd\n",
    "from ydata_profiling import ProfileReport"
   ]
  },
  {
   "cell_type": "code",
   "execution_count": null,
   "metadata": {},
   "outputs": [],
   "source": [
    "unique_merged_data = pd.read_csv(\"../EoIs/Outputs/Combined/Inputs/unique_merged_data.csv\")"
   ]
  },
  {
   "cell_type": "code",
   "execution_count": null,
   "metadata": {},
   "outputs": [],
   "source": [
    "profile = ProfileReport(unique_merged_data, title=\"Profiling Report\")\n",
    "# When you want to share the profile report with external partners, you can use the sensitive mode\n",
    "#profile = ProfileReport(merged_data, title=\"Profiling Report\", sensitive=True)\n",
    "folder_path = \"../EoIs/Outputs/Reports/\"\n",
    "# create the output folder if it does not exist\n",
    "os.makedirs(os.path.dirname(folder_path), exist_ok=True)\n",
    "profile.to_file(folder_path  + \"unique_merged_data_report.html\")"
   ]
  },
  {
   "cell_type": "code",
   "execution_count": null,
   "metadata": {},
   "outputs": [],
   "source": [
    "# Get all the data that \"Other (1)\" column is not \"No\"\n",
    "other_industries = unique_merged_data[unique_merged_data[\"Other (1)\"] != \"No\"]\n",
    "other_industries.head(2)"
   ]
  },
  {
   "cell_type": "code",
   "execution_count": null,
   "metadata": {},
   "outputs": [],
   "source": [
    "other_industries[\"Other (1)\"].head(2)"
   ]
  },
  {
   "cell_type": "code",
   "execution_count": null,
   "metadata": {},
   "outputs": [],
   "source": [
    "other_industries.shape[0]"
   ]
  },
  {
   "cell_type": "code",
   "execution_count": null,
   "metadata": {},
   "outputs": [],
   "source": [
    "# save it to a txt file\n",
    "with open(\"../EoIs/Outputs/Combined/Outputs/other_industries.txt\", \"w\") as f:\n",
    "    f.write(\"\\n\".join(other_industries[\"Other (1)\"].tolist()))"
   ]
  },
  {
   "cell_type": "code",
   "execution_count": null,
   "metadata": {},
   "outputs": [],
   "source": [
    "unique_merged_data[\"What is the business challenge that your organisation would most like to solve with data science and/or AI? (max 200 words)\"].head(2)"
   ]
  },
  {
   "cell_type": "code",
   "execution_count": null,
   "metadata": {},
   "outputs": [],
   "source": [
    "with open(\"../EoIs/Outputs/Combined/Outputs/business_challenges.txt\", \"w\") as f:\n",
    "    f.write(\"\\n\".join(unique_merged_data[\"What is the business challenge that your organisation would most like to solve with data science and/or AI? (max 200 words)\"].tolist()))"
   ]
  },
  {
   "cell_type": "code",
   "execution_count": null,
   "metadata": {},
   "outputs": [],
   "source": [
    "# get the count of Agriculture == \"Yes\" and then the other sectors\n",
    "agriculture = unique_merged_data[unique_merged_data[\"Agriculture and food processing\"] == \"Yes\"]\n",
    "agriculture_count = agriculture.shape[0]\n",
    "\n",
    "creative = unique_merged_data[unique_merged_data[\"Creative Industries\"] == \"Yes\"]\n",
    "creative_count = creative.shape[0]\n",
    "\n",
    "construction = unique_merged_data[unique_merged_data[\"Construction\"] == \"Yes\"]\n",
    "construction_count = construction.shape[0]\n",
    "\n",
    "transportation = unique_merged_data[unique_merged_data[\"Transportation, including logistics and warehousing\"] == \"Yes\"]\n",
    "transportation_count = transportation.shape[0]\n",
    "\n",
    "# print the counts\n",
    "print(\"Agriculture and food processing count:\", agriculture_count)\n",
    "print(\"Creative industries count:\", creative_count)\n",
    "print(\"Construction count:\", construction_count)\n",
    "print(\"Transportation, including logistics and warehousing count:\", transportation_count)"
   ]
  },
  {
   "cell_type": "code",
   "execution_count": null,
   "metadata": {},
   "outputs": [],
   "source": []
  }
 ],
 "metadata": {
  "kernelspec": {
   "display_name": ".venv",
   "language": "python",
   "name": "python3"
  },
  "language_info": {
   "codemirror_mode": {
    "name": "ipython",
    "version": 3
   },
   "file_extension": ".py",
   "mimetype": "text/x-python",
   "name": "python",
   "nbconvert_exporter": "python",
   "pygments_lexer": "ipython3",
   "version": "3.12.7"
  }
 },
 "nbformat": 4,
 "nbformat_minor": 2
}
